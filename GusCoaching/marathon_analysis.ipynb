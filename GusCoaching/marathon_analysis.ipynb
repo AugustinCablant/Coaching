{
 "cells": [
  {
   "cell_type": "code",
   "execution_count": 33,
   "metadata": {},
   "outputs": [],
   "source": [
    "import matplotlib.pyplot as plt\n",
    "import numpy as np\n",
    "import seaborn as sns\n",
    "import pandas as pd\n",
    "import plotly.express as px\n",
    "import plotly.graph_objects as go\n",
    "import datetime"
   ]
  },
  {
   "cell_type": "code",
   "execution_count": 42,
   "metadata": {},
   "outputs": [
    {
     "data": {
      "application/vnd.plotly.v1+json": {
       "config": {
        "plotlyServerURL": "https://plot.ly"
       },
       "data": [
        {
         "hovertemplate": "Semaine=%{x}<br>Kilomètres=%{y}<extra></extra>",
         "legendgroup": "",
         "line": {
          "color": "#636efa",
          "dash": "solid"
         },
         "marker": {
          "symbol": "circle"
         },
         "mode": "lines+markers",
         "name": "",
         "orientation": "v",
         "showlegend": false,
         "type": "scatter",
         "x": [
          "2024-12-15",
          "2024-12-22",
          "2024-12-29",
          "2025-01-05",
          "2025-01-12",
          "2025-01-19",
          "2025-01-26",
          "2025-02-02",
          "2025-02-09",
          "2025-02-16",
          "2025-02-23",
          "2025-03-02",
          "2025-03-09",
          "2025-03-16",
          "2025-03-23",
          "2025-03-30",
          "2025-04-06",
          "2025-04-13"
         ],
         "xaxis": "x",
         "y": [
          130,
          180,
          190,
          130,
          150,
          180,
          190,
          200,
          160,
          190,
          200,
          190,
          95,
          165,
          210,
          190,
          140,
          70
         ],
         "yaxis": "y"
        },
        {
         "marker": {
          "color": "red",
          "size": 10
         },
         "mode": "markers+text",
         "name": "Course objectif",
         "type": "scatter",
         "x": [
          null
         ],
         "y": [
          null
         ]
        },
        {
         "marker": {
          "color": "green",
          "size": 10
         },
         "mode": "markers",
         "name": "Spé marathon",
         "type": "scatter",
         "x": [
          null
         ],
         "y": [
          null
         ]
        },
        {
         "marker": {
          "color": "blue",
          "size": 10
         },
         "mode": "markers",
         "name": "Course entraînement",
         "type": "scatter",
         "x": [
          null
         ],
         "y": [
          null
         ]
        }
       ],
       "layout": {
        "annotations": [
         {
          "arrowcolor": "red",
          "arrowhead": 1,
          "arrowsize": 1.5,
          "font": {
           "color": "red"
          },
          "showarrow": true,
          "text": "10km Prom'Classic",
          "x": "2025-01-05",
          "xref": "x",
          "y": 130,
          "yref": "y"
         },
         {
          "arrowcolor": "red",
          "arrowhead": 3,
          "arrowsize": 1.5,
          "font": {
           "color": "red"
          },
          "showarrow": true,
          "text": "Semi-marathon de Paris",
          "x": "2025-03-09",
          "xref": "x",
          "y": 95,
          "yref": "y"
         },
         {
          "arrowcolor": "red",
          "arrowhead": 1,
          "arrowsize": 1.5,
          "font": {
           "color": "red"
          },
          "showarrow": true,
          "text": "Marathon de Paris",
          "x": "2025-04-13",
          "xref": "x",
          "y": 70,
          "yref": "y"
         },
         {
          "arrowcolor": "blue",
          "arrowhead": 2,
          "arrowsize": 1,
          "font": {
           "color": "blue"
          },
          "showarrow": true,
          "text": "Cross Créteil",
          "x": "2025-01-26",
          "xref": "x",
          "y": 190,
          "yref": "y"
         },
         {
          "arrowcolor": "blue",
          "arrowhead": 2,
          "arrowsize": 1,
          "font": {
           "color": "blue"
          },
          "showarrow": true,
          "text": "5 & 10km Malakoff",
          "x": "2025-02-01",
          "xref": "x",
          "y": 200,
          "yref": "y"
         },
         {
          "arrowcolor": "blue",
          "arrowhead": 2,
          "arrowsize": 1,
          "font": {
           "color": "blue"
          },
          "showarrow": true,
          "text": "Cross Lisses",
          "x": "2025-02-09",
          "xref": "x",
          "y": 160,
          "yref": "y"
         },
         {
          "arrowcolor": "blue",
          "arrowhead": 2,
          "arrowsize": 1,
          "font": {
           "color": "blue"
          },
          "showarrow": true,
          "text": "10km Étampes",
          "x": "2025-02-16",
          "xref": "x",
          "y": 190,
          "yref": "y"
         },
         {
          "arrowcolor": "green",
          "arrowhead": 2,
          "arrowsize": 1,
          "font": {
           "color": "green"
          },
          "showarrow": true,
          "text": "5 x (3km ON / 1km OFF)",
          "x": "2025-01-18",
          "xref": "x",
          "y": 180,
          "yref": "y"
         },
         {
          "arrowcolor": "green",
          "arrowhead": 2,
          "arrowsize": 1,
          "font": {
           "color": "green"
          },
          "showarrow": true,
          "text": "40 km à 3:20",
          "x": "2025-02-23",
          "xref": "x",
          "y": 205,
          "yref": "y"
         },
         {
          "arrowcolor": "green",
          "arrowhead": 2,
          "arrowsize": 1,
          "font": {
           "color": "green"
          },
          "showarrow": true,
          "text": "35km dont 15 x 1km / 1km (3:00/3:40)",
          "x": "2025-03-02",
          "xref": "x",
          "y": 195,
          "yref": "y"
         },
         {
          "arrowcolor": "green",
          "arrowhead": 2,
          "arrowsize": 1,
          "font": {
           "color": "green"
          },
          "showarrow": true,
          "text": "35km dont 10km progressif + 4 x 5km",
          "x": "2025-03-23",
          "xref": "x",
          "y": 210,
          "yref": "y"
         },
         {
          "arrowcolor": "green",
          "arrowhead": 2,
          "arrowsize": 1,
          "font": {
           "color": "green"
          },
          "showarrow": true,
          "text": "35km dont 20km @18.5-19 km/h",
          "x": "2025-03-30",
          "xref": "x",
          "y": 192,
          "yref": "y"
         }
        ],
        "height": 600,
        "hovermode": "x unified",
        "legend": {
         "tracegroupgap": 0
        },
        "template": {
         "data": {
          "bar": [
           {
            "error_x": {
             "color": "#2a3f5f"
            },
            "error_y": {
             "color": "#2a3f5f"
            },
            "marker": {
             "line": {
              "color": "white",
              "width": 0.5
             },
             "pattern": {
              "fillmode": "overlay",
              "size": 10,
              "solidity": 0.2
             }
            },
            "type": "bar"
           }
          ],
          "barpolar": [
           {
            "marker": {
             "line": {
              "color": "white",
              "width": 0.5
             },
             "pattern": {
              "fillmode": "overlay",
              "size": 10,
              "solidity": 0.2
             }
            },
            "type": "barpolar"
           }
          ],
          "carpet": [
           {
            "aaxis": {
             "endlinecolor": "#2a3f5f",
             "gridcolor": "#C8D4E3",
             "linecolor": "#C8D4E3",
             "minorgridcolor": "#C8D4E3",
             "startlinecolor": "#2a3f5f"
            },
            "baxis": {
             "endlinecolor": "#2a3f5f",
             "gridcolor": "#C8D4E3",
             "linecolor": "#C8D4E3",
             "minorgridcolor": "#C8D4E3",
             "startlinecolor": "#2a3f5f"
            },
            "type": "carpet"
           }
          ],
          "choropleth": [
           {
            "colorbar": {
             "outlinewidth": 0,
             "ticks": ""
            },
            "type": "choropleth"
           }
          ],
          "contour": [
           {
            "colorbar": {
             "outlinewidth": 0,
             "ticks": ""
            },
            "colorscale": [
             [
              0,
              "#0d0887"
             ],
             [
              0.1111111111111111,
              "#46039f"
             ],
             [
              0.2222222222222222,
              "#7201a8"
             ],
             [
              0.3333333333333333,
              "#9c179e"
             ],
             [
              0.4444444444444444,
              "#bd3786"
             ],
             [
              0.5555555555555556,
              "#d8576b"
             ],
             [
              0.6666666666666666,
              "#ed7953"
             ],
             [
              0.7777777777777778,
              "#fb9f3a"
             ],
             [
              0.8888888888888888,
              "#fdca26"
             ],
             [
              1,
              "#f0f921"
             ]
            ],
            "type": "contour"
           }
          ],
          "contourcarpet": [
           {
            "colorbar": {
             "outlinewidth": 0,
             "ticks": ""
            },
            "type": "contourcarpet"
           }
          ],
          "heatmap": [
           {
            "colorbar": {
             "outlinewidth": 0,
             "ticks": ""
            },
            "colorscale": [
             [
              0,
              "#0d0887"
             ],
             [
              0.1111111111111111,
              "#46039f"
             ],
             [
              0.2222222222222222,
              "#7201a8"
             ],
             [
              0.3333333333333333,
              "#9c179e"
             ],
             [
              0.4444444444444444,
              "#bd3786"
             ],
             [
              0.5555555555555556,
              "#d8576b"
             ],
             [
              0.6666666666666666,
              "#ed7953"
             ],
             [
              0.7777777777777778,
              "#fb9f3a"
             ],
             [
              0.8888888888888888,
              "#fdca26"
             ],
             [
              1,
              "#f0f921"
             ]
            ],
            "type": "heatmap"
           }
          ],
          "heatmapgl": [
           {
            "colorbar": {
             "outlinewidth": 0,
             "ticks": ""
            },
            "colorscale": [
             [
              0,
              "#0d0887"
             ],
             [
              0.1111111111111111,
              "#46039f"
             ],
             [
              0.2222222222222222,
              "#7201a8"
             ],
             [
              0.3333333333333333,
              "#9c179e"
             ],
             [
              0.4444444444444444,
              "#bd3786"
             ],
             [
              0.5555555555555556,
              "#d8576b"
             ],
             [
              0.6666666666666666,
              "#ed7953"
             ],
             [
              0.7777777777777778,
              "#fb9f3a"
             ],
             [
              0.8888888888888888,
              "#fdca26"
             ],
             [
              1,
              "#f0f921"
             ]
            ],
            "type": "heatmapgl"
           }
          ],
          "histogram": [
           {
            "marker": {
             "pattern": {
              "fillmode": "overlay",
              "size": 10,
              "solidity": 0.2
             }
            },
            "type": "histogram"
           }
          ],
          "histogram2d": [
           {
            "colorbar": {
             "outlinewidth": 0,
             "ticks": ""
            },
            "colorscale": [
             [
              0,
              "#0d0887"
             ],
             [
              0.1111111111111111,
              "#46039f"
             ],
             [
              0.2222222222222222,
              "#7201a8"
             ],
             [
              0.3333333333333333,
              "#9c179e"
             ],
             [
              0.4444444444444444,
              "#bd3786"
             ],
             [
              0.5555555555555556,
              "#d8576b"
             ],
             [
              0.6666666666666666,
              "#ed7953"
             ],
             [
              0.7777777777777778,
              "#fb9f3a"
             ],
             [
              0.8888888888888888,
              "#fdca26"
             ],
             [
              1,
              "#f0f921"
             ]
            ],
            "type": "histogram2d"
           }
          ],
          "histogram2dcontour": [
           {
            "colorbar": {
             "outlinewidth": 0,
             "ticks": ""
            },
            "colorscale": [
             [
              0,
              "#0d0887"
             ],
             [
              0.1111111111111111,
              "#46039f"
             ],
             [
              0.2222222222222222,
              "#7201a8"
             ],
             [
              0.3333333333333333,
              "#9c179e"
             ],
             [
              0.4444444444444444,
              "#bd3786"
             ],
             [
              0.5555555555555556,
              "#d8576b"
             ],
             [
              0.6666666666666666,
              "#ed7953"
             ],
             [
              0.7777777777777778,
              "#fb9f3a"
             ],
             [
              0.8888888888888888,
              "#fdca26"
             ],
             [
              1,
              "#f0f921"
             ]
            ],
            "type": "histogram2dcontour"
           }
          ],
          "mesh3d": [
           {
            "colorbar": {
             "outlinewidth": 0,
             "ticks": ""
            },
            "type": "mesh3d"
           }
          ],
          "parcoords": [
           {
            "line": {
             "colorbar": {
              "outlinewidth": 0,
              "ticks": ""
             }
            },
            "type": "parcoords"
           }
          ],
          "pie": [
           {
            "automargin": true,
            "type": "pie"
           }
          ],
          "scatter": [
           {
            "fillpattern": {
             "fillmode": "overlay",
             "size": 10,
             "solidity": 0.2
            },
            "type": "scatter"
           }
          ],
          "scatter3d": [
           {
            "line": {
             "colorbar": {
              "outlinewidth": 0,
              "ticks": ""
             }
            },
            "marker": {
             "colorbar": {
              "outlinewidth": 0,
              "ticks": ""
             }
            },
            "type": "scatter3d"
           }
          ],
          "scattercarpet": [
           {
            "marker": {
             "colorbar": {
              "outlinewidth": 0,
              "ticks": ""
             }
            },
            "type": "scattercarpet"
           }
          ],
          "scattergeo": [
           {
            "marker": {
             "colorbar": {
              "outlinewidth": 0,
              "ticks": ""
             }
            },
            "type": "scattergeo"
           }
          ],
          "scattergl": [
           {
            "marker": {
             "colorbar": {
              "outlinewidth": 0,
              "ticks": ""
             }
            },
            "type": "scattergl"
           }
          ],
          "scattermapbox": [
           {
            "marker": {
             "colorbar": {
              "outlinewidth": 0,
              "ticks": ""
             }
            },
            "type": "scattermapbox"
           }
          ],
          "scatterpolar": [
           {
            "marker": {
             "colorbar": {
              "outlinewidth": 0,
              "ticks": ""
             }
            },
            "type": "scatterpolar"
           }
          ],
          "scatterpolargl": [
           {
            "marker": {
             "colorbar": {
              "outlinewidth": 0,
              "ticks": ""
             }
            },
            "type": "scatterpolargl"
           }
          ],
          "scatterternary": [
           {
            "marker": {
             "colorbar": {
              "outlinewidth": 0,
              "ticks": ""
             }
            },
            "type": "scatterternary"
           }
          ],
          "surface": [
           {
            "colorbar": {
             "outlinewidth": 0,
             "ticks": ""
            },
            "colorscale": [
             [
              0,
              "#0d0887"
             ],
             [
              0.1111111111111111,
              "#46039f"
             ],
             [
              0.2222222222222222,
              "#7201a8"
             ],
             [
              0.3333333333333333,
              "#9c179e"
             ],
             [
              0.4444444444444444,
              "#bd3786"
             ],
             [
              0.5555555555555556,
              "#d8576b"
             ],
             [
              0.6666666666666666,
              "#ed7953"
             ],
             [
              0.7777777777777778,
              "#fb9f3a"
             ],
             [
              0.8888888888888888,
              "#fdca26"
             ],
             [
              1,
              "#f0f921"
             ]
            ],
            "type": "surface"
           }
          ],
          "table": [
           {
            "cells": {
             "fill": {
              "color": "#EBF0F8"
             },
             "line": {
              "color": "white"
             }
            },
            "header": {
             "fill": {
              "color": "#C8D4E3"
             },
             "line": {
              "color": "white"
             }
            },
            "type": "table"
           }
          ]
         },
         "layout": {
          "annotationdefaults": {
           "arrowcolor": "#2a3f5f",
           "arrowhead": 0,
           "arrowwidth": 1
          },
          "autotypenumbers": "strict",
          "coloraxis": {
           "colorbar": {
            "outlinewidth": 0,
            "ticks": ""
           }
          },
          "colorscale": {
           "diverging": [
            [
             0,
             "#8e0152"
            ],
            [
             0.1,
             "#c51b7d"
            ],
            [
             0.2,
             "#de77ae"
            ],
            [
             0.3,
             "#f1b6da"
            ],
            [
             0.4,
             "#fde0ef"
            ],
            [
             0.5,
             "#f7f7f7"
            ],
            [
             0.6,
             "#e6f5d0"
            ],
            [
             0.7,
             "#b8e186"
            ],
            [
             0.8,
             "#7fbc41"
            ],
            [
             0.9,
             "#4d9221"
            ],
            [
             1,
             "#276419"
            ]
           ],
           "sequential": [
            [
             0,
             "#0d0887"
            ],
            [
             0.1111111111111111,
             "#46039f"
            ],
            [
             0.2222222222222222,
             "#7201a8"
            ],
            [
             0.3333333333333333,
             "#9c179e"
            ],
            [
             0.4444444444444444,
             "#bd3786"
            ],
            [
             0.5555555555555556,
             "#d8576b"
            ],
            [
             0.6666666666666666,
             "#ed7953"
            ],
            [
             0.7777777777777778,
             "#fb9f3a"
            ],
            [
             0.8888888888888888,
             "#fdca26"
            ],
            [
             1,
             "#f0f921"
            ]
           ],
           "sequentialminus": [
            [
             0,
             "#0d0887"
            ],
            [
             0.1111111111111111,
             "#46039f"
            ],
            [
             0.2222222222222222,
             "#7201a8"
            ],
            [
             0.3333333333333333,
             "#9c179e"
            ],
            [
             0.4444444444444444,
             "#bd3786"
            ],
            [
             0.5555555555555556,
             "#d8576b"
            ],
            [
             0.6666666666666666,
             "#ed7953"
            ],
            [
             0.7777777777777778,
             "#fb9f3a"
            ],
            [
             0.8888888888888888,
             "#fdca26"
            ],
            [
             1,
             "#f0f921"
            ]
           ]
          },
          "colorway": [
           "#636efa",
           "#EF553B",
           "#00cc96",
           "#ab63fa",
           "#FFA15A",
           "#19d3f3",
           "#FF6692",
           "#B6E880",
           "#FF97FF",
           "#FECB52"
          ],
          "font": {
           "color": "#2a3f5f"
          },
          "geo": {
           "bgcolor": "white",
           "lakecolor": "white",
           "landcolor": "white",
           "showlakes": true,
           "showland": true,
           "subunitcolor": "#C8D4E3"
          },
          "hoverlabel": {
           "align": "left"
          },
          "hovermode": "closest",
          "mapbox": {
           "style": "light"
          },
          "paper_bgcolor": "white",
          "plot_bgcolor": "white",
          "polar": {
           "angularaxis": {
            "gridcolor": "#EBF0F8",
            "linecolor": "#EBF0F8",
            "ticks": ""
           },
           "bgcolor": "white",
           "radialaxis": {
            "gridcolor": "#EBF0F8",
            "linecolor": "#EBF0F8",
            "ticks": ""
           }
          },
          "scene": {
           "xaxis": {
            "backgroundcolor": "white",
            "gridcolor": "#DFE8F3",
            "gridwidth": 2,
            "linecolor": "#EBF0F8",
            "showbackground": true,
            "ticks": "",
            "zerolinecolor": "#EBF0F8"
           },
           "yaxis": {
            "backgroundcolor": "white",
            "gridcolor": "#DFE8F3",
            "gridwidth": 2,
            "linecolor": "#EBF0F8",
            "showbackground": true,
            "ticks": "",
            "zerolinecolor": "#EBF0F8"
           },
           "zaxis": {
            "backgroundcolor": "white",
            "gridcolor": "#DFE8F3",
            "gridwidth": 2,
            "linecolor": "#EBF0F8",
            "showbackground": true,
            "ticks": "",
            "zerolinecolor": "#EBF0F8"
           }
          },
          "shapedefaults": {
           "line": {
            "color": "#2a3f5f"
           }
          },
          "ternary": {
           "aaxis": {
            "gridcolor": "#DFE8F3",
            "linecolor": "#A2B1C6",
            "ticks": ""
           },
           "baxis": {
            "gridcolor": "#DFE8F3",
            "linecolor": "#A2B1C6",
            "ticks": ""
           },
           "bgcolor": "white",
           "caxis": {
            "gridcolor": "#DFE8F3",
            "linecolor": "#A2B1C6",
            "ticks": ""
           }
          },
          "title": {
           "x": 0.05
          },
          "xaxis": {
           "automargin": true,
           "gridcolor": "#EBF0F8",
           "linecolor": "#EBF0F8",
           "ticks": "",
           "title": {
            "standoff": 15
           },
           "zerolinecolor": "#EBF0F8",
           "zerolinewidth": 2
          },
          "yaxis": {
           "automargin": true,
           "gridcolor": "#EBF0F8",
           "linecolor": "#EBF0F8",
           "ticks": "",
           "title": {
            "standoff": 15
           },
           "zerolinecolor": "#EBF0F8",
           "zerolinewidth": 2
          }
         }
        },
        "title": {
         "text": "Évolution du nombre de km par semaine dans ma préparation marathon (moyenne à 164km sur 18 semaines)"
        },
        "xaxis": {
         "anchor": "y",
         "domain": [
          0,
          1
         ],
         "title": {
          "text": "Semaine"
         }
        },
        "yaxis": {
         "anchor": "x",
         "domain": [
          0,
          1
         ],
         "title": {
          "text": "Kilomètres"
         }
        }
       }
      }
     },
     "metadata": {},
     "output_type": "display_data"
    }
   ],
   "source": [
    "# Kilométrage par semaine\n",
    "\n",
    "km_per_week = [130, 180, 190, 130, 150, 180, 190, 200, 160, 190, 200, 190, 95, 165, 210, 190, 140, 70]  \n",
    "\n",
    "# Création des dates des semaines à partir du 8 décembre 2024\n",
    "start_date = datetime.date(2024, 12, 15)\n",
    "dates = [start_date + datetime.timedelta(weeks=i) for i in range(len(km_per_week))]\n",
    "\n",
    "# DataFrame\n",
    "df = pd.DataFrame({\n",
    "    'Semaine': dates,\n",
    "    'Kilomètres': km_per_week\n",
    "})\n",
    "\n",
    "# --- Ajout des annotations (flèches rouges + texte) ---\n",
    "annotations = [\n",
    "    dict(\n",
    "        x=datetime.date(2025, 1, 5),\n",
    "        y=130,\n",
    "        xref=\"x\",\n",
    "        yref=\"y\",\n",
    "        text=\"10km Prom'Classic\",\n",
    "        showarrow=True,\n",
    "        arrowhead=1,\n",
    "        arrowsize=1.5,\n",
    "        arrowcolor=\"red\",\n",
    "        font=dict(color=\"red\"),\n",
    "    ),\n",
    "    dict(\n",
    "        x=datetime.date(2025, 3, 9),\n",
    "        y=95,\n",
    "        xref=\"x\",\n",
    "        yref=\"y\",\n",
    "        text=\"Semi-marathon de Paris\",\n",
    "        showarrow=True,\n",
    "        arrowhead=3,\n",
    "        arrowsize=1.5,\n",
    "        arrowcolor=\"red\",\n",
    "        font=dict(color=\"red\"),\n",
    "    ),\n",
    "    dict(\n",
    "        x=datetime.date(2025, 4, 13),\n",
    "        y=70,\n",
    "        xref=\"x\",\n",
    "        yref=\"y\",\n",
    "        text=\"Marathon de Paris\",\n",
    "        showarrow=True,\n",
    "        arrowhead=1,\n",
    "        arrowsize=1.5,\n",
    "        arrowcolor=\"red\",\n",
    "        font=dict(color=\"red\"),\n",
    "    ),\n",
    "]\n",
    "\n",
    "# --- Annotations Courses Entraînement (bleu) ---\n",
    "annotations += [\n",
    "    dict(\n",
    "        x=datetime.date(2025, 1, 26),\n",
    "        y=190,\n",
    "        xref=\"x\",\n",
    "        yref=\"y\",\n",
    "        text=\"Cross Créteil\",\n",
    "        showarrow=True,\n",
    "        arrowhead=2,\n",
    "        arrowsize=1,\n",
    "        arrowcolor=\"blue\",\n",
    "        font=dict(color=\"blue\"),\n",
    "    ),\n",
    "    dict(\n",
    "        x=datetime.date(2025, 2, 1),\n",
    "        y=200,\n",
    "        xref=\"x\",\n",
    "        yref=\"y\",\n",
    "        text=\"5 & 10km Malakoff\",\n",
    "        showarrow=True,\n",
    "        arrowhead=2,\n",
    "        arrowsize=1,\n",
    "        arrowcolor=\"blue\",\n",
    "        font=dict(color=\"blue\"),\n",
    "    ),\n",
    "    dict(\n",
    "        x=datetime.date(2025, 2, 9),\n",
    "        y=160,\n",
    "        xref=\"x\",\n",
    "        yref=\"y\",\n",
    "        text=\"Cross Lisses\",\n",
    "        showarrow=True,\n",
    "        arrowhead=2,\n",
    "        arrowsize=1,\n",
    "        arrowcolor=\"blue\",\n",
    "        font=dict(color=\"blue\"),\n",
    "    ),\n",
    "    dict(\n",
    "        x=datetime.date(2025, 2, 16),\n",
    "        y=190,\n",
    "        xref=\"x\",\n",
    "        yref=\"y\",\n",
    "        text=\"10km Étampes\",\n",
    "        showarrow=True,\n",
    "        arrowhead=2,\n",
    "        arrowsize=1,\n",
    "        arrowcolor=\"blue\",\n",
    "        font=dict(color=\"blue\"),\n",
    "    ),\n",
    "]\n",
    "\n",
    "# --- Annotations Séances Spécifiques Marathon (vertes) ---\n",
    "annotations += [\n",
    "    dict(\n",
    "        x=datetime.date(2025, 1, 18),\n",
    "        y=180,\n",
    "        xref=\"x\",\n",
    "        yref=\"y\",\n",
    "        text=\"5 x (3km ON / 1km OFF)\",\n",
    "        showarrow=True,\n",
    "        arrowhead=2,\n",
    "        arrowsize=1,\n",
    "        arrowcolor=\"green\",\n",
    "        font=dict(color=\"green\"),\n",
    "    ),\n",
    "    dict(\n",
    "        x=datetime.date(2025, 2, 23),\n",
    "        y=205,\n",
    "        xref=\"x\",\n",
    "        yref=\"y\",\n",
    "        text=\"40 km à 3:20\",\n",
    "        showarrow=True,\n",
    "        arrowhead=2,\n",
    "        arrowsize=1,\n",
    "        arrowcolor=\"green\",\n",
    "        font=dict(color=\"green\"),\n",
    "    ),\n",
    "    dict(\n",
    "        x=datetime.date(2025, 3, 2),\n",
    "        y=195,\n",
    "        xref=\"x\",\n",
    "        yref=\"y\",\n",
    "        text=\"35km dont 15 x 1km / 1km (3:00/3:40)\",\n",
    "        showarrow=True,\n",
    "        arrowhead=2,\n",
    "        arrowsize=1,\n",
    "        arrowcolor=\"green\",\n",
    "        font=dict(color=\"green\"),\n",
    "    ),\n",
    "    dict(\n",
    "        x=datetime.date(2025, 3, 23),\n",
    "        y=210,\n",
    "        xref=\"x\",\n",
    "        yref=\"y\",\n",
    "        text=\"35km dont 10km progressif + 4 x 5km\",\n",
    "        showarrow=True,\n",
    "        arrowhead=2,\n",
    "        arrowsize=1,\n",
    "        arrowcolor=\"green\",\n",
    "        font=dict(color=\"green\"),\n",
    "    ),\n",
    "    dict(\n",
    "        x=datetime.date(2025, 3, 30),\n",
    "        y=192,\n",
    "        xref=\"x\",\n",
    "        yref=\"y\",\n",
    "        text=\"35km dont 20km @18.5-19 km/h\",\n",
    "        showarrow=True,\n",
    "        arrowhead=2,\n",
    "        arrowsize=1,\n",
    "        arrowcolor=\"green\",\n",
    "        font=dict(color=\"green\"),\n",
    "    ),\n",
    "]\n",
    "\n",
    "# --------- Plotly ---------\n",
    "fig = px.line(\n",
    "    df,\n",
    "    x='Semaine',\n",
    "    y='Kilomètres',\n",
    "    markers=True,\n",
    "    title=f'Évolution du nombre de km par semaine dans ma préparation marathon (moyenne à {int(np.mean(km_per_week))}km sur {len(km_per_week)} semaines)',\n",
    ")\n",
    "\n",
    "fig.update_layout(\n",
    "    height=600,  \n",
    "    annotations=annotations\n",
    ")\n",
    "\n",
    "fig.update_layout(\n",
    "    annotations=annotations\n",
    ")\n",
    "\n",
    "# --- Légende manuelle ---\n",
    "fig.add_trace(go.Scatter(\n",
    "    x=[None],\n",
    "    y=[None],\n",
    "    mode='markers+text',\n",
    "    marker=dict(color='red', size=10),\n",
    "    name=\"Course objectif\"\n",
    "))\n",
    "\n",
    "fig.add_trace(go.Scatter(\n",
    "    x=[None],\n",
    "    y=[None],\n",
    "    mode='markers',\n",
    "    marker=dict(color='green', size=10),\n",
    "    name=\"Spé marathon\"\n",
    "))\n",
    "\n",
    "fig.add_trace(go.Scatter(\n",
    "    x=[None],\n",
    "    y=[None],\n",
    "    mode='markers',\n",
    "    marker=dict(color='blue', size=10),\n",
    "    name=\"Course entraînement\"\n",
    "))\n",
    "\n",
    "# --- Options graphiques ---\n",
    "fig.update_layout(\n",
    "    xaxis_title='Semaine',\n",
    "    yaxis_title='Kilomètres',\n",
    "    template='plotly_white',\n",
    "    hovermode='x unified'\n",
    ")\n",
    "\n",
    "fig.show()"
   ]
  },
  {
   "cell_type": "code",
   "execution_count": null,
   "metadata": {},
   "outputs": [],
   "source": [
    "# Heures de sommeil"
   ]
  }
 ],
 "metadata": {
  "kernelspec": {
   "display_name": "base",
   "language": "python",
   "name": "python3"
  },
  "language_info": {
   "codemirror_mode": {
    "name": "ipython",
    "version": 3
   },
   "file_extension": ".py",
   "mimetype": "text/x-python",
   "name": "python",
   "nbconvert_exporter": "python",
   "pygments_lexer": "ipython3",
   "version": "3.12.4"
  }
 },
 "nbformat": 4,
 "nbformat_minor": 2
}
